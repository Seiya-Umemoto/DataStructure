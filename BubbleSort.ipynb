{
  "nbformat": 4,
  "nbformat_minor": 0,
  "metadata": {
    "colab": {
      "name": "BubbleSort.ipynb",
      "version": "0.3.2",
      "provenance": [],
      "include_colab_link": true
    },
    "kernelspec": {
      "name": "python3",
      "display_name": "Python 3"
    }
  },
  "cells": [
    {
      "cell_type": "markdown",
      "metadata": {
        "id": "view-in-github",
        "colab_type": "text"
      },
      "source": [
        "<a href=\"https://colab.research.google.com/github/Seiya-Umemoto/DataStructure/blob/master/BubbleSort.ipynb\" target=\"_parent\"><img src=\"https://colab.research.google.com/assets/colab-badge.svg\" alt=\"Open In Colab\"/></a>"
      ]
    },
    {
      "cell_type": "code",
      "metadata": {
        "id": "a9Udl56ahkA1",
        "colab_type": "code",
        "colab": {
          "base_uri": "https://localhost:8080/",
          "height": 34
        },
        "outputId": "b13788fc-32f7-4372-b762-735c9bd6fa88"
      },
      "source": [
        "def bubble_sort(array, n):\n",
        "  for i in range(1, n):\n",
        "    for j in range(1, n-i+1):\n",
        "      if array[j-1] > array[j]:\n",
        "        temp = array[j]\n",
        "        array[j] = array[j-1]\n",
        "        array[j-1] = temp\n",
        "  return array\n",
        "\n",
        "array = [6, 5, 3, 1, 8, 7, 2, 4]\n",
        "array = bubble_sort(array, len(array))\n",
        "print(array)"
      ],
      "execution_count": 3,
      "outputs": [
        {
          "output_type": "stream",
          "text": [
            "[1, 2, 3, 4, 5, 6, 7, 8]\n"
          ],
          "name": "stdout"
        }
      ]
    }
  ]
}