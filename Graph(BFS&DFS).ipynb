{
  "nbformat": 4,
  "nbformat_minor": 0,
  "metadata": {
    "colab": {
      "name": "Graph(BFS&DFS).ipynb",
      "version": "0.3.2",
      "provenance": [],
      "collapsed_sections": [],
      "include_colab_link": true
    },
    "kernelspec": {
      "name": "python3",
      "display_name": "Python 3"
    }
  },
  "cells": [
    {
      "cell_type": "markdown",
      "metadata": {
        "id": "view-in-github",
        "colab_type": "text"
      },
      "source": [
        "<a href=\"https://colab.research.google.com/github/Seiya-Umemoto/DataStructure/blob/master/Graph(BFS%26DFS).ipynb\" target=\"_parent\"><img src=\"https://colab.research.google.com/assets/colab-badge.svg\" alt=\"Open In Colab\"/></a>"
      ]
    },
    {
      "cell_type": "code",
      "metadata": {
        "id": "7Dw6qn-REh_0",
        "colab_type": "code",
        "outputId": "d61d3be5-29a0-4ff8-8b5f-afad9f96414e",
        "colab": {
          "base_uri": "https://localhost:8080/",
          "height": 87
        }
      },
      "source": [
        "class Node:\n",
        "  def __init__(self, data):\n",
        "    self.data = data\n",
        "    self.neighbors = []\n",
        "    self.visited = False\n",
        "    \n",
        "  def add_neighbor(self, neighbor):\n",
        "    self.neighbors.append(neighbor)\n",
        "\n",
        "  def set_visited(self, visited):\n",
        "    self.visited = visited\n",
        "\n",
        "  def get_data(self):\n",
        "    return self.data\n",
        "\n",
        "  def get_neighbors(self):\n",
        "    return self.neighbors\n",
        "\n",
        "  def get_visited(self):\n",
        "    return self.visited\n",
        "\n",
        "\n",
        "class Graph:\n",
        "  def __init__(self):\n",
        "    self.nodes = []\n",
        "\n",
        "  def add_node(self, node):\n",
        "    self.nodes.append(node)\n",
        "    \n",
        "  def bfs(self):\n",
        "    if len(self.nodes) > 0:\n",
        "      for node in self.nodes:\n",
        "        node.set_visited(False)\n",
        "        \n",
        "      output = \"\"\n",
        "      queue = []\n",
        "      self.nodes[0].set_visited(True)\n",
        "      output += self.nodes[0].get_data()\n",
        "      queue.append(self.nodes[0])\n",
        "      \n",
        "      while queue:\n",
        "        current = queue.pop(0)\n",
        "        neighbors = current.get_neighbors()\n",
        "        for neighbor in neighbors:\n",
        "          if neighbor.get_visited() is False:\n",
        "            output += \" - \" + neighbor.get_data()\n",
        "            neighbor.set_visited(True)\n",
        "            queue.append(neighbor)          \n",
        "      \n",
        "      return output\n",
        "  \n",
        "  def dfs(self):\n",
        "    if len(self.nodes) > 0:\n",
        "      for node in self.nodes:\n",
        "        node.set_visited(False)\n",
        "        \n",
        "      output = \"\"\n",
        "      stack = []\n",
        "      self.nodes[0].set_visited(True)\n",
        "      output += self.nodes[0].get_data()\n",
        "      stack.append(self.nodes[0])\n",
        "      while stack: #or len(stack) > 0\n",
        "        neighbors = stack[len(stack)-1].get_neighbors()\n",
        "        for neighbor in neighbors:\n",
        "          if neighbor.get_visited() is False:\n",
        "            neighbor.set_visited(True)\n",
        "            output += \" - \" + neighbor.get_data()\n",
        "            stack.append(neighbor)            \n",
        "            break #loop end of for neighbor in neighbors\n",
        "          else:\n",
        "            stack.pop()\n",
        "            \n",
        "      return output\n",
        "    \n",
        "\n",
        "graph = Graph()\n",
        "\n",
        "node_A = Node('A')\n",
        "graph.add_node(node_A)\n",
        "node_B = Node('B')\n",
        "graph.add_node(node_B)\n",
        "node_C = Node('C')\n",
        "graph.add_node(node_C)\n",
        "node_D = Node('D')\n",
        "graph.add_node(node_D)\n",
        "node_E = Node('E')\n",
        "graph.add_node(node_E)\n",
        "node_F = Node('F')\n",
        "graph.add_node(node_F)\n",
        "node_G = Node('G')\n",
        "graph.add_node(node_G)\n",
        "node_H = Node('H')\n",
        "graph.add_node(node_H)\n",
        "node_S = Node('S')\n",
        "graph.add_node(node_S)\n",
        "\n",
        "node_A.add_neighbor(node_B)\n",
        "node_A.add_neighbor(node_S)\n",
        "\n",
        "node_B.add_neighbor(node_A)\n",
        "\n",
        "node_C.add_neighbor(node_D)\n",
        "node_C.add_neighbor(node_E)\n",
        "node_C.add_neighbor(node_F)\n",
        "node_C.add_neighbor(node_S)\n",
        "\n",
        "node_D.add_neighbor(node_C)\n",
        "\n",
        "node_E.add_neighbor(node_C)\n",
        "node_E.add_neighbor(node_H)\n",
        "\n",
        "node_F.add_neighbor(node_C)\n",
        "node_F.add_neighbor(node_G)\n",
        "\n",
        "node_G.add_neighbor(node_F)\n",
        "node_G.add_neighbor(node_S)\n",
        "node_G.add_neighbor(node_H)\n",
        "\n",
        "node_H.add_neighbor(node_E)\n",
        "node_H.add_neighbor(node_G)\n",
        "\n",
        "node_S.add_neighbor(node_A)\n",
        "node_S.add_neighbor(node_C)\n",
        "node_S.add_neighbor(node_G)\n",
        "\n",
        "print(\"[BFS result]\")\n",
        "print(graph.bfs())\n",
        "\n",
        "print(\"[DFS result]\")\n",
        "print(graph.dfs())"
      ],
      "execution_count": 35,
      "outputs": [
        {
          "output_type": "stream",
          "text": [
            "[BFS result]\n",
            "A - B - S - C - G - D - E - F - H\n",
            "[DFS result]\n",
            "A - B - S - C - D - E - H - G - F\n"
          ],
          "name": "stdout"
        }
      ]
    },
    {
      "cell_type": "code",
      "metadata": {
        "id": "yexbTwyw8R4L",
        "colab_type": "code",
        "colab": {
          "base_uri": "https://localhost:8080/",
          "height": 34
        },
        "outputId": "46a983e7-0524-47cc-c140-6c051ff1c954"
      },
      "source": [
        "a = 5\n",
        "for i in range(0, a):\n",
        "  if i % 2 == 0:\n",
        "    print(i)\n",
        "    break\n",
        "  else:\n",
        "    pass"
      ],
      "execution_count": 34,
      "outputs": [
        {
          "output_type": "stream",
          "text": [
            "0\n"
          ],
          "name": "stdout"
        }
      ]
    }
  ]
}